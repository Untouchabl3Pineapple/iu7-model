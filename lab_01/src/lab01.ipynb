{
 "cells": [
  {
   "cell_type": "code",
   "execution_count": 17,
   "metadata": {},
   "outputs": [
    {
     "data": {
      "application/vnd.jupyter.widget-view+json": {
       "model_id": "f4ecaffafe7e4c0e968c9652c176cf01",
       "version_major": 2,
       "version_minor": 0
      },
      "text/plain": [
       "interactive(children=(FloatSlider(value=1.0, description='a', min=-100.0), FloatSlider(value=3.0, description=…"
      ]
     },
     "metadata": {},
     "output_type": "display_data"
    },
    {
     "data": {
      "application/vnd.jupyter.widget-view+json": {
       "model_id": "7205bc6e287444af889c8123f7a035f5",
       "version_major": 2,
       "version_minor": 0
      },
      "text/plain": [
       "interactive(children=(IntSlider(value=1, description='lambda', min=1), IntSlider(value=0, description='x_start…"
      ]
     },
     "metadata": {},
     "output_type": "display_data"
    },
    {
     "data": {
      "text/plain": [
       "<function __main__.plot_poisson_distribution(mu, start, end)>"
      ]
     },
     "execution_count": 17,
     "metadata": {},
     "output_type": "execute_result"
    }
   ],
   "source": [
    "import numpy as np\n",
    "import matplotlib.pyplot as plt\n",
    "from scipy.stats import uniform, poisson\n",
    "from ipywidgets import interact, widgets\n",
    "from IPython.display import display\n",
    "\n",
    "def plot_uniform_distribution(a, b):\n",
    "    x = np.linspace(a - 1, b + 1, 1000)\n",
    "    pdf_uniform = uniform.pdf(x, loc=a, scale=b-a)\n",
    "    cdf_uniform = uniform.cdf(x, loc=a, scale=b-a)\n",
    "\n",
    "    plt.figure(figsize=(12, 6))\n",
    "    plt.subplot(221)\n",
    "    plt.plot(x, pdf_uniform)\n",
    "    plt.title('Функция плотности (равномерное распределение)')\n",
    "\n",
    "    plt.subplot(222)\n",
    "    plt.plot(x, cdf_uniform)\n",
    "    plt.title('Функция распределения (равномерное распределение)')\n",
    "\n",
    "    plt.tight_layout()\n",
    "    plt.show()\n",
    "\n",
    "def plot_poisson_distribution(mu, start, end):\n",
    "    x_poisson = np.arange(start, end)\n",
    "    pmf_poisson = poisson.pmf(x_poisson, mu)\n",
    "    cdf_poisson = poisson.cdf(x_poisson, mu)\n",
    "\n",
    "    plt.figure(figsize=(12, 6))\n",
    "    plt.subplot(223)\n",
    "    plt.stem(x_poisson, pmf_poisson, basefmt=\" \")\n",
    "    plt.title('Функция вероятности (пуассоновское распределение)')\n",
    "\n",
    "    plt.subplot(224)\n",
    "    plt.plot(x_poisson, cdf_poisson, marker='o')\n",
    "    plt.title('Функция распределения (пуассоновское распределение)')\n",
    "\n",
    "    plt.tight_layout()\n",
    "    plt.show()\n",
    "\n",
    "a_uniform_widget = widgets.FloatSlider(value=1, min=-100, max=100, step=0.1, description='a')\n",
    "b_uniform_widget = widgets.FloatSlider(value=3, min=-100, max=100, step=0.1, description='b')\n",
    "mu_poisson_widget = widgets.IntSlider(value=1, min=1, max=100, description='lambda')\n",
    "start_poisson_widget = widgets.IntSlider(value=0, min=-10, max=100, description='x_start')\n",
    "end_poisson_widget = widgets.IntSlider(value=10, min=-10, max=200, description='x_end')\n",
    "\n",
    "interact(plot_uniform_distribution, a=a_uniform_widget, b=b_uniform_widget)\n",
    "interact(plot_poisson_distribution, mu=mu_poisson_widget, start=start_poisson_widget, end=end_poisson_widget)\n",
    "\n"
   ]
  }
 ],
 "metadata": {
  "kernelspec": {
   "display_name": "Python 3",
   "language": "python",
   "name": "python3"
  },
  "language_info": {
   "codemirror_mode": {
    "name": "ipython",
    "version": 3
   },
   "file_extension": ".py",
   "mimetype": "text/x-python",
   "name": "python",
   "nbconvert_exporter": "python",
   "pygments_lexer": "ipython3",
   "version": "3.11.6"
  }
 },
 "nbformat": 4,
 "nbformat_minor": 2
}
